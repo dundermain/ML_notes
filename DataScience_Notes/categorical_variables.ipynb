{
 "cells": [
  {
   "cell_type": "markdown",
   "metadata": {},
   "source": [
    "Categorical Data and Its Types\n",
    "\n",
    "A categorical or discrete variable is one that has two or more categories (values). There are two different types of categorical variables:\n",
    "\n",
    "Nomial: A nominal variable has no intrinsic ordering to its categories. For example, gender is a categorical variable having two categories (Male and Female) with no inherent ordering between them. Another example is Country (India, Australia, America, and so forth).\n",
    "\n",
    "Ordinal: An ordinal variable has a clear ordering within its categories. For example, consider temperature as a variable with three distinct (but related) categories (low, medium, high). Another example is an education degree (Ph.D., Master’s, or Bachelor’s)."
   ]
  },
  {
   "cell_type": "markdown",
   "metadata": {},
   "source": [
    "Different Approaches to Handle Categorical Data\n",
    "\n",
    "· One Hot Encoding\n",
    "\n",
    "· One Hot Encoding with multiple categories\n",
    "\n",
    "· Ordinal Number Encoding\n",
    "\n",
    "· Count or Frequency Encoding\n",
    "\n",
    "· Target guided Ordinal Encoding\n",
    "\n",
    "· Mean Ordinal Encoding\n",
    "\n",
    "· Probability Ratio Encoding"
   ]
  },
  {
   "cell_type": "markdown",
   "metadata": {},
   "source": [
    "1. One Hot Encoding\n",
    "\n",
    "This technique is applied for nomial categorical features.\n",
    "\n",
    "In one Hot Encoding method, each category value is converted into a new column and assigned a value as 1 or 0 to the column.\n",
    "\n",
    "This will be done using the pandas get_dummies() function and then we will drop the first column in order to avoid dummy variable trap.\n",
    "\n",
    "\n",
    "\n",
    "Advantages :\n",
    "\n",
    "· Simple to use and fits well for data with few categories.\n",
    "\n",
    "Disadvantages:\n",
    "\n",
    "· A high cardinality of higher categories will increase the feature space, resulting in the curse of dimensionality. (for example; high cardinal data means high number of unique values. e.g pincode is high cardinal data)"
   ]
  },
  {
   "cell_type": "markdown",
   "metadata": {},
   "source": [
    "2. One Hot Encoding with Multiple Categories\n",
    "\n",
    "This is one of the ensemble selection techniques pick up from the KDD Orange Cup competition. In this technique, the author made a slight modification to the One hot encoding technique that is instead of creating the new column for every category, they limit creating the new column for 10 most frequent categories. Sounds like a Jargon !!!! Me too 😊\n",
    "\n",
    "\n",
    "Advantages:\n",
    "\n",
    "· Easy to implement\n",
    "\n",
    "· Does not expand massively the feature space\n",
    "\n",
    "Disadvantages :\n",
    "\n",
    "· Does not keep track of category values that are overlooked."
   ]
  },
  {
   "cell_type": "markdown",
   "metadata": {},
   "source": [
    "3. Ordinal Number Encoding\n",
    "\n",
    "As the name implies, this technique is used for ordinal categorical features.\n",
    "\n",
    "In this technique, each unique category value is given an integer value. For instance, “red” equals 1, “green” equals 2 and “blue” equals 3.\n",
    "\n",
    "Domain information can be used to determine the integer value order. For example, we people love Saturday and Sundays, and most hates Monday. In this scenario the mapping for weekdays goes ‘Monday’ is 1, ‘Tuesday’ is 2, ‘Wednesday’ is 3, ‘Thursday’ is 4, ‘Friday’ is 5,’Saturday’ is 6,’Sunday’ is 7.\n",
    "\n",
    "\n",
    "Advantages :\n",
    "\n",
    "· Easy and straightforward to implement\n",
    "\n",
    "· Widely used in survey and research data encoding.\n",
    "\n",
    "Disadvantages:\n",
    "\n",
    "· Do not have a standardized interval scale."
   ]
  }
 ],
 "metadata": {
  "language_info": {
   "name": "python"
  }
 },
 "nbformat": 4,
 "nbformat_minor": 2
}
